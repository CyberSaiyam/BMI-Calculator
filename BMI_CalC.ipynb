{
  "nbformat": 4,
  "nbformat_minor": 0,
  "metadata": {
    "colab": {
      "provenance": [],
      "authorship_tag": "ABX9TyOnVK4MQk65m7ZjdOcoRXp1",
      "include_colab_link": true
    },
    "kernelspec": {
      "name": "python3",
      "display_name": "Python 3"
    },
    "language_info": {
      "name": "python"
    }
  },
  "cells": [
    {
      "cell_type": "markdown",
      "metadata": {
        "id": "view-in-github",
        "colab_type": "text"
      },
      "source": [
        "<a href=\"https://colab.research.google.com/github/CyberSaiyam/BMI-Calculator/blob/main/BMI_CalC.ipynb\" target=\"_parent\"><img src=\"https://colab.research.google.com/assets/colab-badge.svg\" alt=\"Open In Colab\"/></a>"
      ]
    },
    {
      "cell_type": "code",
      "execution_count": 3,
      "metadata": {
        "id": "NHIC5JW_Sb-Z"
      },
      "outputs": [],
      "source": [
        "#This notebook will calculate your Body Mass Index\n"
      ]
    },
    {
      "cell_type": "code",
      "source": [
        "# Taking Input from user\n",
        "name = input(\"Hey, Please enter your name: \")\n",
        "height = float(input(\"Enter your height in (m): \"))\n",
        "weight = float(input(\"Enter your weight in (Kg): \"))"
      ],
      "metadata": {
        "colab": {
          "base_uri": "https://localhost:8080/"
        },
        "id": "mu2jLs9vS26A",
        "outputId": "f0fe6005-076c-480b-9164-8e0491a76879"
      },
      "execution_count": 12,
      "outputs": [
        {
          "name": "stdout",
          "output_type": "stream",
          "text": [
            "Hey, Please enter your name: Saiyam\n",
            "Enter your height in (m): 1.61\n",
            "Enter your weight in (Kg): 64\n"
          ]
        }
      ]
    },
    {
      "cell_type": "code",
      "source": [
        "req_weight = weight\n",
        "req_height = height * height\n",
        "#Now Calculating the BMI\n",
        "BMI = (req_weight/req_height)"
      ],
      "metadata": {
        "id": "m9jdZFezTkZ1"
      },
      "execution_count": 13,
      "outputs": []
    },
    {
      "cell_type": "code",
      "source": [
        "print(f\"Your Body Mass Index or BMI is {BMI}\")"
      ],
      "metadata": {
        "colab": {
          "base_uri": "https://localhost:8080/"
        },
        "id": "JCcyG7D-US6V",
        "outputId": "c96bd72f-5423-437f-8a45-3a9606e3e0aa"
      },
      "execution_count": 14,
      "outputs": [
        {
          "output_type": "stream",
          "name": "stdout",
          "text": [
            "Your Body Mass Index or BMI is 24.690405462752206\n"
          ]
        }
      ]
    },
    {
      "cell_type": "code",
      "source": [
        "# Giving the category to the user based on BMI\n",
        "if BMI > 0:\n",
        "  if BMI < 18.5:\n",
        "    print(f\"{name} comes under underweight\")\n",
        "  elif BMI < 24.9:\n",
        "    print(f\"{name} comes under Healthy weight\")\n",
        "  elif BMI < 29.9:\n",
        "    print(f\"{name} comes under Over weight\")\n",
        "  elif BMI > 29.9:\n",
        "    print(f\"{name} comes under Obesity\")\n",
        "else:\n",
        "  print(\"Incorrect information provided\")\n"
      ],
      "metadata": {
        "colab": {
          "base_uri": "https://localhost:8080/"
        },
        "id": "T6z9eOGnUlpH",
        "outputId": "feedda13-d98a-46a3-f037-f8d13359a80f"
      },
      "execution_count": 16,
      "outputs": [
        {
          "output_type": "stream",
          "name": "stdout",
          "text": [
            "Saiyam comes under Healthy weight\n"
          ]
        }
      ]
    }
  ]
}